{
  "nbformat": 4,
  "nbformat_minor": 0,
  "metadata": {
    "colab": {
      "provenance": []
    },
    "kernelspec": {
      "name": "python3",
      "display_name": "Python 3"
    },
    "language_info": {
      "name": "python"
    }
  },
  "cells": [
    {
      "cell_type": "markdown",
      "source": [
        "**AI05123 - VIRGIE YUNITA SALSABIL**"
      ],
      "metadata": {
        "id": "RTrk_6ucGHra"
      }
    },
    {
      "cell_type": "markdown",
      "source": [
        "Deep Learning for MNIST Handwritten Digit Classification using PyTorch.\n",
        "This is an exploration task. Develop your end-to-end workflow for solving\n",
        "a Handwritten Digit Classification task using Neural Network architecture\n",
        "(not Convolutional Neural Network). These are the criteria for scoring:\n",
        "\n",
        "- Loading your MNIST dataset for the data loader\n",
        "- Visualize several MNIST datasets\n",
        "- Design your Neural Network model\n",
        "- Setup your hyperparameter such as Loss Function, Optimizer, Learning Rate, etc\n",
        "- Develop a training loop and run a training model\n",
        "- Evaluate the Model using several performance metrics such as accuracy, confusion matrix, F1 Score, Precision, Recall, etc\n",
        "- Describe and explain your Result"
      ],
      "metadata": {
        "id": "KOXKq5HDGtmh"
      }
    },
    {
      "cell_type": "code",
      "execution_count": 26,
      "metadata": {
        "id": "Orrkt92KGAyo"
      },
      "outputs": [],
      "source": [
        "import torch\n",
        "import torch.nn as nn\n",
        "import torch.optim as optim\n",
        "from torchvision import datasets, transforms\n",
        "from sklearn.metrics import confusion_matrix, accuracy_score, precision_score, recall_score, f1_score, classification_report\n",
        "import matplotlib.pyplot as plt"
      ]
    },
    {
      "cell_type": "code",
      "source": [
        "# Step 1: Loading dataset MNIST ke dalam data loader\n",
        "transform = transforms.Compose([transforms.ToTensor(), transforms.Normalize((0.5,), (0.5,))])\n",
        "\n",
        "train_dataset = datasets.MNIST(root='./data', train=True, transform=transform, download=True)\n",
        "test_dataset = datasets.MNIST(root='./data', train=False, transform=transform, download=True)\n",
        "\n",
        "train_loader = torch.utils.data.DataLoader(train_dataset, batch_size=64, shuffle=True)\n",
        "test_loader = torch.utils.data.DataLoader(test_dataset, batch_size=64, shuffle=False)"
      ],
      "metadata": {
        "id": "ja5NrqmRWln2"
      },
      "execution_count": 27,
      "outputs": []
    },
    {
      "cell_type": "code",
      "source": [
        "# Jumlah data latih\n",
        "num_train_samples = len(train_dataset)\n",
        "\n",
        "# Jumlah data uji\n",
        "num_test_samples = len(test_dataset)\n",
        "\n",
        "print(f\"Jumlah data latih: {num_train_samples} sampel\")\n",
        "print(f\"Jumlah data uji: {num_test_samples} sampel\")"
      ],
      "metadata": {
        "colab": {
          "base_uri": "https://localhost:8080/"
        },
        "id": "E4RQMmkHiHpL",
        "outputId": "87342174-1a57-4a2d-9d2f-5ac8497d22b7"
      },
      "execution_count": 28,
      "outputs": [
        {
          "output_type": "stream",
          "name": "stdout",
          "text": [
            "Jumlah data latih: 60000 sampel\n",
            "Jumlah data uji: 10000 sampel\n"
          ]
        }
      ]
    },
    {
      "cell_type": "code",
      "source": [
        "# Step 2: Memvisualisasikan beberapa contoh dari dataset MNIST\n",
        "def visualize_samples(data_loader, num_samples=5):\n",
        "    data_iter = iter(data_loader)\n",
        "    images, labels = next(data_iter)\n",
        "    fig, axes = plt.subplots(1, num_samples, figsize=(12, 3))\n",
        "    for i in range(num_samples):\n",
        "        axes[i].imshow(images[i].squeeze(), cmap='gray')\n",
        "        axes[i].set_title(f\"Label: {labels[i].item()}\")\n",
        "        axes[i].axis('off')\n",
        "    plt.show()\n",
        "\n",
        "# Memvisualisasikan beberapa contoh dari data latih\n",
        "visualize_samples(train_loader, num_samples=5)\n",
        "\n",
        "# Memvisualisasikan beberapa contoh dari data uji\n",
        "visualize_samples(test_loader, num_samples=5)"
      ],
      "metadata": {
        "colab": {
          "base_uri": "https://localhost:8080/",
          "height": 421
        },
        "id": "wHh66OVbfrm4",
        "outputId": "331b026d-5bb5-47f6-bc56-2449bf9535d6"
      },
      "execution_count": 29,
      "outputs": [
        {
          "output_type": "display_data",
          "data": {
            "text/plain": [
              "<Figure size 1200x300 with 5 Axes>"
            ],
            "image/png": "[encoded data removed]"
          },
          "metadata": {}
        },
        {
          "output_type": "display_data",
          "data": {
            "text/plain": [
              "<Figure size 1200x300 with 5 Axes>"
            ],
            "image/png": "[encoded data removed]"
          },
          "metadata": {}
        }
      ]
    },
    {
      "cell_type": "code",
      "source": [
        "# Step 3: Mendefinisikan model Neural Network\n",
        "class SimpleNN(nn.Module):\n",
        "    def __init__(self):\n",
        "        super(SimpleNN, self).__init__()\n",
        "        self.fc1 = nn.Linear(28*28, 128)  # Layer input ke hidden layer\n",
        "        self.relu = nn.ReLU()             # Fungsi aktivasi ReLU\n",
        "        self.fc2 = nn.Linear(128, 10)     # Hidden layer ke output layer\n",
        "\n",
        "    def forward(self, x):\n",
        "        x = x.view(-1, 28*28)  # Meratakan gambar menjadi vektor\n",
        "        x = self.fc1(x)        # Layer input ke hidden layer\n",
        "        x = self.relu(x)       # Fungsi aktivasi ReLU\n",
        "        x = self.fc2(x)        # Hidden layer ke output layer\n",
        "        return x\n",
        "\n",
        "# Membuat instance model\n",
        "model = SimpleNN()\n",
        "\n",
        "# Menampilkan arsitektur model\n",
        "print(model)"
      ],
      "metadata": {
        "colab": {
          "base_uri": "https://localhost:8080/"
        },
        "id": "c5vTdk47G8iO",
        "outputId": "9c174fab-0b24-428f-c432-7ed7fceb868f"
      },
      "execution_count": 30,
      "outputs": [
        {
          "output_type": "stream",
          "name": "stdout",
          "text": [
            "SimpleNN(\n",
            "  (fc1): Linear(in_features=784, out_features=128, bias=True)\n",
            "  (relu): ReLU()\n",
            "  (fc2): Linear(in_features=128, out_features=10, bias=True)\n",
            ")\n"
          ]
        }
      ]
    },
    {
      "cell_type": "code",
      "source": [
        "# Step 4: Setup hyperparameters\n",
        "criterion = nn.CrossEntropyLoss()\n",
        "optimizer = optim.Adam(model.parameters(), lr=0.001)\n",
        "num_epochs = 15 #model akan melatih dirinya sendiri sebanyak 15 kali pada seluruh dataset."
      ],
      "metadata": {
        "id": "S0RW6FVjIaRw"
      },
      "execution_count": 31,
      "outputs": []
    },
    {
      "cell_type": "markdown",
      "source": [
        "**PENJELASAN :**\n",
        "\n",
        "- Nilai epoch dalam pelatihan model Neural Network digunakan untuk mengontrol seberapa banyak seluruh dataset latih akan dilewati oleh model dalam pelatihan.\n",
        "- Satu epoch mengacu pada satu kali proses pengolahan keseluruhan dataset latih oleh model."
      ],
      "metadata": {
        "id": "cOMKPZxqLxOQ"
      }
    },
    {
      "cell_type": "code",
      "source": [
        "# Step 5: Buatlah loop pelatihan dan jalankan model pelatihan\n",
        "def train(model, train_loader, criterion, optimizer, num_epochs):\n",
        "    for epoch in range(num_epochs):\n",
        "        model.train()  # Mengatur model ke mode pelatihan\n",
        "        running_loss = 0.0  # Inisialisasi loss selama satu epoch\n",
        "\n",
        "        # Loop melalui batch-batch data latih\n",
        "        for inputs, labels in train_loader:\n",
        "            optimizer.zero_grad()  # Mengatur gradien menjadi nol\n",
        "            outputs = model(inputs)  # Menggunakan model untuk membuat prediksi\n",
        "            loss = criterion(outputs, labels)  # Menghitung loss\n",
        "            loss.backward()  # Menghitung gradien berdasarkan loss\n",
        "            optimizer.step()  # Melakukan pembaruan parameter berdasarkan gradien\n",
        "            running_loss += loss.item()  # Menambahkan loss ke running_loss\n",
        "\n",
        "        # Cetak loss rata-rata untuk epoch ini\n",
        "        print(f'Epoch {epoch+1}/{num_epochs}, Loss: {running_loss/len(train_loader)}')\n",
        "\n",
        "# Memanggil fungsi train untuk melatih model\n",
        "train(model, train_loader, criterion, optimizer, num_epochs)"
      ],
      "metadata": {
        "colab": {
          "base_uri": "https://localhost:8080/"
        },
        "id": "dm-Jnli5NVnu",
        "outputId": "7b902aa7-e592-4521-fd47-0470da7edf1c"
      },
      "execution_count": 32,
      "outputs": [
        {
          "output_type": "stream",
          "name": "stdout",
          "text": [
            "Epoch 1/15, Loss: 0.37852616882178064\n",
            "Epoch 2/15, Loss: 0.19372840337494987\n",
            "Epoch 3/15, Loss: 0.1384256351957602\n",
            "Epoch 4/15, Loss: 0.10989027272369753\n",
            "Epoch 5/15, Loss: 0.0948912432158628\n",
            "Epoch 6/15, Loss: 0.08158023220780831\n",
            "Epoch 7/15, Loss: 0.07449541164975144\n",
            "Epoch 8/15, Loss: 0.06432637755822605\n",
            "Epoch 9/15, Loss: 0.060473930621609044\n",
            "Epoch 10/15, Loss: 0.05682089690169665\n",
            "Epoch 11/15, Loss: 0.0521415295208425\n",
            "Epoch 12/15, Loss: 0.04543040592723818\n",
            "Epoch 13/15, Loss: 0.04351355022841892\n",
            "Epoch 14/15, Loss: 0.04166976772204065\n",
            "Epoch 15/15, Loss: 0.03697428688370208\n"
          ]
        }
      ]
    },
    {
      "cell_type": "code",
      "source": [
        "# Step 6 : Evaluate the Model using several performance metrics such as accuracy, confusion matrix, F1 Score, Precision, Recall, etc\n",
        "\n",
        "# Menginisialisasi list untuk menyimpan prediksi dan label sebenarnya\n",
        "all_predictions = []\n",
        "all_labels = []\n",
        "\n",
        "# Mengubah model ke mode evaluasi\n",
        "model.eval()  # Mengubah model ke mode evaluasi (non-pelatihan)\n",
        "\n",
        "# Loop melalui data uji\n",
        "with torch.no_grad():  # Tidak memerlukan perhitungan gradien saat evaluasi\n",
        "    for images, labels in test_loader:\n",
        "        outputs = model(images)  # Menghasilkan prediksi dari model\n",
        "        _, predicted = torch.max(outputs, 1)  # Mengambil indeks kelas dengan probabilitas tertinggi\n",
        "\n",
        "        # Menambahkan prediksi dan label sebenarnya ke list\n",
        "        all_predictions.extend(predicted.cpu().numpy())  # Mengonversi tensor ke NumPy array\n",
        "        all_labels.extend(labels.cpu().numpy())  # Mengonversi tensor ke NumPy array\n",
        "\n",
        "# Menghitung akurasi\n",
        "accuracy = accuracy_score(all_labels, all_predictions)\n",
        "print(f'Accuracy: {accuracy:.4f}')\n",
        "\n",
        "# Membuat matriks konfusi\n",
        "confusion = confusion_matrix(all_labels, all_predictions)\n",
        "print('Confusion Matrix:')\n",
        "print(confusion)\n",
        "\n",
        "# Menampilkan laporan klasifikasi (precision, recall, F1-score, dll)\n",
        "class_rep = classification_report(all_labels, all_predictions)\n",
        "print('\\n Classification Report:')\n",
        "print(class_rep)"
      ],
      "metadata": {
        "colab": {
          "base_uri": "https://localhost:8080/"
        },
        "id": "_RGB0AyjRewm",
        "outputId": "60e1a5a3-073d-4a91-b28b-f12494a16956"
      },
      "execution_count": 35,
      "outputs": [
        {
          "output_type": "stream",
          "name": "stdout",
          "text": [
            "Accuracy: 0.9742\n",
            "Confusion Matrix:\n",
            "[[ 966    1    1    0    2    1    6    2    1    0]\n",
            " [   0 1127    2    2    0    1    1    1    1    0]\n",
            " [   4    1 1004    4    8    0    0    5    6    0]\n",
            " [   0    0    2  991    0    6    0    4    3    4]\n",
            " [   2    0    2    0  969    0    2    2    3    2]\n",
            " [   3    1    0    9    3  860    5    3    5    3]\n",
            " [   3    4    1    1    9    4  933    0    3    0]\n",
            " [   1    5    4    4    0    0    0 1009    4    1]\n",
            " [   4    0    1    3    4    4    3    6  945    4]\n",
            " [   1    4    0    6   23    8    1   19    9  938]]\n",
            "\n",
            " Classification Report:\n",
            "              precision    recall  f1-score   support\n",
            "\n",
            "           0       0.98      0.99      0.98       980\n",
            "           1       0.99      0.99      0.99      1135\n",
            "           2       0.99      0.97      0.98      1032\n",
            "           3       0.97      0.98      0.98      1010\n",
            "           4       0.95      0.99      0.97       982\n",
            "           5       0.97      0.96      0.97       892\n",
            "           6       0.98      0.97      0.98       958\n",
            "           7       0.96      0.98      0.97      1028\n",
            "           8       0.96      0.97      0.97       974\n",
            "           9       0.99      0.93      0.96      1009\n",
            "\n",
            "    accuracy                           0.97     10000\n",
            "   macro avg       0.97      0.97      0.97     10000\n",
            "weighted avg       0.97      0.97      0.97     10000\n",
            "\n"
          ]
        }
      ]
    },
    {
      "cell_type": "markdown",
      "source": [
        "## **7. Describe and explain your Result**"
      ],
      "metadata": {
        "id": "f_7RolHzY94p"
      }
    },
    {
      "cell_type": "markdown",
      "source": [
        "Dari pemodelan Deep Learning yang telah dilakukan untuk klasifikasi digit tulisan tangan menggunakan PyTorch pada dataset MNIST, beberapa kesimpulan yang di dapat yaitu :\n",
        "- Model yang sudah dilatih memiliki **akurasi yang sangat tinggi**, sekitar **97.42%** yang merupakan persentase prediksi yang benar dari total 10.000 sampel dalam dataset uji.\n",
        "- **Artinya** -> Model mampu mengenali digit-digit tulisan tangan dengan akurasi yang sangat baik.\n",
        "\n",
        "- Dalam pelatihan model di atas sudah menggunakan hyperparameter yang tepat, seperti fungsi loss yang sesuai, optimizer yang baik, dan jumlah epoch yang cukup.\n",
        "\n",
        "- **Confusion Matrix** menggambarkan tentang seberapa baik model mengklasifikasikan setiap kelas.\n",
        "- Diagonal utama = prediksi yang benar\n",
        "- Di luar diagonal utama = kesalahan prediksi.\n",
        "- **Hasil dari Confusion Matrix** di atas umumnya memiliki kinerja yang baik, dengan nilai pada diagonal utama yang lebih tinggi daripada nilai diluar diagonal utama.\n"
      ],
      "metadata": {
        "id": "lS7OXe5tZCKv"
      }
    }
  ]
}